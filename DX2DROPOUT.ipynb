{
 "cells": [
  {
   "cell_type": "code",
   "execution_count": 133,
   "metadata": {},
   "outputs": [],
   "source": [
    "import pylab as pl\n",
    "import numpy as np\n",
    "import astropy.io.fits as fits\n",
    "import matplotlib.pyplot as plt\n",
    "\n",
    "from lines import lines\n",
    "from desispec.io import read_frame, read_spectra\n",
    "from redrock.templates import find_templates, Template\n",
    "from astropy.table import Table\n",
    "from desispec.resolution import Resolution\n",
    "from desispec.interpolation import resample_flux\n",
    "from astropy.convolution import convolve, Box1DKernel"
   ]
  },
  {
   "cell_type": "code",
   "execution_count": 94,
   "metadata": {},
   "outputs": [],
   "source": [
    "skyline=np.array([5199.4,5578.4,5656.4,5891.4,5897.4,6302.4,6308.4,6365.4,6500.4,6546.4,\\\n",
    "                  6555.4,6618.4,6663.4,6679.4,6690.4,6765.4,6831.4,6836.4,6865.4,6925.4,\\\n",
    "                  6951.4,6980.4,7242.4,7247.4,7278.4,7286.4,7305.4,7318.4,7331.4,7343.4,\\\n",
    "                  7360.4,7371.4,7394.4,7404.4,7440.4,7526.4,7714.4,7719.4,7752.4,7762.4,\\\n",
    "                  7782.4,7796.4,7810.4,7823.4,7843.4,7855.4,7862.4,7873.4,7881.4,7892.4,\\\n",
    "                  7915.4,7923.4,7933.4,7951.4,7966.4,7982.4,7995.4,8016.4,8028.4,8064.4,\\\n",
    "                  8280.4,8284.4,8290.4,8298.4,8301.4,8313.4,8346.4,8355.4,8367.4,8384.4,\\\n",
    "                  8401.4,8417.4,8432.4,8454.4,8467.4,8495.4,8507.4,8627.4,8630.4,8634.4,\\\n",
    "                  8638.4,8652.4,8657.4,8662.4,8667.4,8672.4,8677.4,8683.4,8763.4,8770.4,\\\n",
    "                  8780.4,8793.4,8829.4,8835.4,8838.4,8852.4,8870.4,8888.4,8905.4,8922.4,\\\n",
    "                  8945.4,8960.4,8990.4,9003.4,9040.4,9052.4,9105.4,9227.4,9309.4,9315.4,\\\n",
    "                  9320.4,9326.4,9340.4,9378.4,9389.4,9404.4,9422.4,9442.4,9461.4,9479.4,\\\n",
    "                  9505.4,9521.4,9555.4,9570.4,9610.4,9623.4,9671.4,9684.4,9693.4,9702.4,\\\n",
    "                  9714.4,9722.4,9740.4,9748.4,9793.4,9802.4,9814.4,9820.4])"
   ]
  },
  {
   "cell_type": "code",
   "execution_count": 6,
   "metadata": {},
   "outputs": [
    {
     "name": "stdout",
     "output_type": "stream",
     "text": [
      "DEBUG: Read templates from /global/common/software/desi/cori/desiconda/20190804-1.3.0-spec/code/redrock-templates/master\n",
      "DEBUG: Using default redshift range -0.0050-1.6997 for rrtemplate-galaxy.fits\n",
      "DEBUG: Using default redshift range 0.0500-5.9934 for rrtemplate-qso.fits\n",
      "DEBUG: Using default redshift range -0.0020-0.0020 for rrtemplate-star-A.fits\n",
      "DEBUG: Using default redshift range -0.0020-0.0020 for rrtemplate-star-B.fits\n",
      "DEBUG: Using default redshift range -0.0020-0.0020 for rrtemplate-star-CV.fits\n",
      "DEBUG: Using default redshift range -0.0020-0.0020 for rrtemplate-star-F.fits\n",
      "DEBUG: Using default redshift range -0.0020-0.0020 for rrtemplate-star-G.fits\n",
      "DEBUG: Using default redshift range -0.0020-0.0020 for rrtemplate-star-K.fits\n",
      "DEBUG: Using default redshift range -0.0020-0.0020 for rrtemplate-star-M.fits\n",
      "DEBUG: Using default redshift range -0.0020-0.0020 for rrtemplate-star-WD.fits\n"
     ]
    }
   ],
   "source": [
    "templates = {}\n",
    "\n",
    "for filename in find_templates():\n",
    "    t       = Template(filename)\n",
    "    templates[(t.template_type, t.sub_type)] = t"
   ]
  },
  {
   "cell_type": "code",
   "execution_count": 35,
   "metadata": {},
   "outputs": [],
   "source": [
    "zbest = Table.read('/project/projectdirs/desi/spectro/redux/cascades/tiles/80606/deep/zbest-0-80606-deep.fits')\n",
    "fmap  = Table.read('/project/projectdirs/desi/spectro/redux/cascades/tiles/80606/deep/zbest-0-80606-deep.fits', 'FIBERMAP')"
   ]
  },
  {
   "cell_type": "code",
   "execution_count": 38,
   "metadata": {},
   "outputs": [],
   "source": [
    "coadd = read_spectra('/project/projectdirs/desi/spectro/redux/cascades/tiles/80606/deep/coadd-0-80606-deep.fits')"
   ]
  },
  {
   "cell_type": "code",
   "execution_count": 49,
   "metadata": {},
   "outputs": [],
   "source": [
    "rr_z  = zbest['Z']\n",
    "tids  = zbest['TARGETID']\n",
    "\n",
    "spectype = [x.strip() for x in zbest['SPECTYPE']]\n",
    "subtype  = [x.strip() for x in zbest['SUBTYPE']]\n",
    "\n",
    "fulltype = list(zip(spectype, subtype))"
   ]
  },
  {
   "cell_type": "code",
   "execution_count": 13,
   "metadata": {},
   "outputs": [],
   "source": [
    "ncoeff = [templates[ft].flux.shape[0] for ft in fulltype]\n",
    "coeff = [x[0:y] for (x,y) in zip(zbest['COEFF'], ncoeff)]"
   ]
  },
  {
   "cell_type": "code",
   "execution_count": 44,
   "metadata": {},
   "outputs": [],
   "source": [
    "tfluxs = [templates[ft].flux.T.dot(cf).tolist()     for (ft, cf) in zip(fulltype, coeff)]\n",
    "twaves = [(templates[ft].wave * (1. + rz)).tolist() for (ft, rz) in zip(fulltype, rr_z)]"
   ]
  },
  {
   "cell_type": "code",
   "execution_count": 92,
   "metadata": {},
   "outputs": [
    {
     "data": {
      "image/png": "[encoded data removed]",
      "text/plain": [
       "<Figure size 432x288 with 1 Axes>"
      ]
     },
     "metadata": {
      "needs_background": "light"
     },
     "output_type": "display_data"
    }
   ],
   "source": [
    "for tid, tflux, twave in zip(tids, tfluxs, twaves):\n",
    "    assert (np.count_nonzero(coadd.fibermap['TARGETID'] == tid) == 1)\n",
    "     \n",
    "    for band in ['b', 'r', 'z']:    \n",
    "        flux = coadd.flux[band][coadd.fibermap['TARGETID'] == tid][0]\n",
    "        \n",
    "        # 0.8 A pix. \n",
    "        flux = convolve(flux, Box1DKernel(15), boundary='extend')\n",
    "                \n",
    "        rflux = resample_flux(coadd.wave[band], twave, tflux)\n",
    "        \n",
    "        pl.plot(coadd.wave[band], flux, lw=0.5, alpha=0.25)\n",
    "        pl.plot(coadd.wave[band], rflux, lw=0.5, alpha=0.75)\n",
    "\n",
    "        pl.ylim(-0.5, 2.)\n",
    "        \n",
    "    break"
   ]
  },
  {
   "cell_type": "code",
   "execution_count": 93,
   "metadata": {},
   "outputs": [
    {
     "name": "stdout",
     "output_type": "stream",
     "text": [
      " LINEID      WAVELENGTH          NAME     REDSHIFT GROUP WIDTH GROUP FLUX GROUP SCALE FACTOR INDEX GROUP DOUBLET LINERATIO MASKED\n",
      "-------- ------------------ ------------- -------------- ----------- ---------- ------------ ----- ----- ------- --------- ------\n",
      "emlineid            1215.67      Ly_alpha          z_lya      w_ly_a      f1215          1.0     0     0     -99       0.0      0\n",
      "emlineid            1240.81      N_V 1240      zemission       w_n_v      f1240          1.0     1     2     -99       0.0      0\n",
      "emlineid            1549.48     C_IV 1549      zemission   wemission      f1549          1.0     2     3     -99       0.0      1\n",
      "emlineid            1640.42    He_II 1640      zemission   wemission      f1640          1.0     3     3     -99       0.0      0\n",
      "emlineid           1908.734   C_III] 1908      zemission   wemission      f1908          1.0     4     3     -99       0.0      0\n",
      "emlineid  2800.315188621943    Mg_II 2799      zemission   wemission      f2799          1.0     5     3     -99       0.0      1\n",
      "emlineid 3727.0917225096655   [O_II] 3725      zemission   wemission      f3725          1.0     6     3       0       0.7      0\n",
      "emlineid   3729.87544376128   [O_II] 3727      zemission   wemission      f3727          1.0     7     3       0       0.7      0\n",
      "emlineid 3869.8567959162406 [Ne_III] 3868      zemission   wemission      f3868          1.0     8     3     -99       0.0      1\n",
      "emlineid 3890.1510790716834     H_epsilon      zemission    w_balmer      f3889          1.0     9     1     -99       0.0      0\n",
      "emlineid 3971.1231883143773 [Ne_III] 3970      zemission   wemission      f3970          1.0    10     3     -99       0.0      0\n",
      "emlineid  4102.891635399645       H_delta      zemission    w_balmer      f4101          1.0    11     1     -99       0.0      0\n",
      "emlineid  4341.684323950415       H_gamma      zemission    w_balmer      f4340          1.0    12     1     -99       0.0      0\n",
      "emlineid  4364.435312373618  [O_III] 4363      zemission   wemission      f4363          1.0    13     3     -99       0.0      0\n",
      "emlineid  4686.991466008997    He_II 4685      zemission   wemission      f4685          1.0    14     3     -99       0.0      1\n",
      "emlineid  4862.683021040764        H_beta      zemission    w_balmer      f4861          1.0    15     1     -99       0.0      0\n",
      "emlineid  4960.294931825264  [O_III] 4959      zemission   wemission      f5007          1.0    16     3       1       0.7      0\n",
      "emlineid  5008.239669615672  [O_III] 5007      zemission   wemission      f5007          3.0    17     3       1       0.7      0\n",
      "emlineid  5413.024467154929    He_II 5411      zemission   wemission      f5411          1.0    18     3     -99       0.0      0\n",
      "emlineid  5578.887753538833    [O_I] 5577      zemission   wemission      f5577          1.0    19     3     -99       0.0      0\n",
      "emlineid  5756.186156709958   [N_II] 5755      zemission   wemission      f5755          1.0    20     3     -99       0.0      0\n",
      "emlineid  5877.308574906249     He_I 5876      zemission   wemission      f5876          1.0    21     3     -99       0.0      0\n",
      "emlineid  6302.046448389282    [O_I] 6300      zemission   wemission      f6300          1.0    22     3     -99       0.0      0\n",
      "emlineid   6313.80560491733  [S_III] 6312      zemission   wemission      f7312          1.0    23     3     -99       0.0      0\n",
      "emlineid  6365.535493114148    [O_I] 6363      zemission   wemission      f6363          1.0    24     3     -99       0.0      0\n",
      "emlineid  6549.859008201306   [N_II] 6548      zemission   wemission      f6548          1.0    25     3       2       0.0      1\n",
      "emlineid  6564.613973710927       H_alpha      zemission    w_balmer      f6563          1.0    26     1     -99       0.0      0\n",
      "emlineid   6585.26852522626   [N_II] 6583      zemission   wemission      f6583          3.0    27     3       2       0.0      1\n",
      "emlineid  6718.294291949573   [S_II] 6716      zemission   wemission      f6716          1.0    28     3     -99       0.0      0\n",
      "emlineid  6732.678160576219   [S_II] 6730      zemission   wemission      f6730          1.0    29     3     -99       0.0      0\n",
      "emlineid   7137.75719911729 [Ar_III] 7135      zemission   wemission      f7315          1.0    30     3     -99       0.0      1\n"
     ]
    }
   ],
   "source": [
    "lines.pprint(max_lines=-1, max_width=-1)"
   ]
  },
  {
   "cell_type": "code",
   "execution_count": 118,
   "metadata": {},
   "outputs": [],
   "source": [
    "hw   = 2."
   ]
  },
  {
   "cell_type": "code",
   "execution_count": 119,
   "metadata": {},
   "outputs": [],
   "source": [
    "wave = coadd.wave['z']\n",
    "mask = np.ones_like(coadd.wave['z'])"
   ]
  },
  {
   "cell_type": "code",
   "execution_count": 120,
   "metadata": {},
   "outputs": [],
   "source": [
    "for line in skyline:\n",
    "    if line<=wave[0] or line>=wave[-1]:\n",
    "        continue\n",
    "\n",
    "    ii=np.where((wave>=line-hw)&(wave<=line+hw))[0]\n",
    "\n",
    "    mask[ii]=0.0"
   ]
  },
  {
   "cell_type": "code",
   "execution_count": 121,
   "metadata": {},
   "outputs": [
    {
     "data": {
      "text/plain": [
       "0.822283929191253"
      ]
     },
     "execution_count": 121,
     "metadata": {},
     "output_type": "execute_result"
    }
   ],
   "source": [
    "np.mean(mask)"
   ]
  },
  {
   "cell_type": "code",
   "execution_count": 126,
   "metadata": {},
   "outputs": [],
   "source": [
    "zs = np.arange(0.0, 2.5, 1.e-4)\n",
    "mask = np.ones_like(zs)"
   ]
  },
  {
   "cell_type": "code",
   "execution_count": 125,
   "metadata": {},
   "outputs": [],
   "source": [
    "wavea = 3727.0917225096655 * (1. + zs)\n",
    "waveb = 3729.8754437612800 * (1. + zs)"
   ]
  },
  {
   "cell_type": "code",
   "execution_count": 127,
   "metadata": {},
   "outputs": [],
   "source": [
    "for line in skyline:\n",
    "    for wave in [wavea, waveb]:\n",
    "        if line<=wave[0] or line>=wave[-1]:\n",
    "            continue\n",
    "\n",
    "        ii=np.where((wave>=line-hw)&(wave<=line+hw))[0]\n",
    "\n",
    "        mask[ii]=0.0"
   ]
  },
  {
   "cell_type": "code",
   "execution_count": 128,
   "metadata": {},
   "outputs": [
    {
     "data": {
      "text/plain": [
       "0.89224"
      ]
     },
     "execution_count": 128,
     "metadata": {},
     "output_type": "execute_result"
    }
   ],
   "source": [
    "np.mean(mask)"
   ]
  },
  {
   "cell_type": "code",
   "execution_count": 143,
   "metadata": {},
   "outputs": [
    {
     "data": {
      "text/plain": [
       "Text(0, 0.5, 'Radial mask [2.0A half width]')"
      ]
     },
     "execution_count": 143,
     "metadata": {},
     "output_type": "execute_result"
    },
    {
     "data": {
      "image/png": "[encoded data removed]",
      "text/plain": [
       "<Figure size 1440x360 with 1 Axes>"
      ]
     },
     "metadata": {
      "needs_background": "light"
     },
     "output_type": "display_data"
    }
   ],
   "source": [
    "fig, ax = plt.subplots(1,1,figsize=(20,5))\n",
    "\n",
    "ax.plot(zs, mask, c='k', lw=0.1)\n",
    "ax.set_xlim(0.25, 1.75)\n",
    "\n",
    "pl.xlabel('redshift')\n",
    "pl.ylabel('Radial mask [{:.1f}A half width]'.format(hw))"
   ]
  },
  {
   "cell_type": "markdown",
   "metadata": {},
   "source": [
    "# Done."
   ]
  }
 ],
 "metadata": {
  "kernelspec": {
   "display_name": "DESI master",
   "language": "python",
   "name": "desi-master"
  },
  "language_info": {
   "codemirror_mode": {
    "name": "ipython",
    "version": 3
   },
   "file_extension": ".py",
   "mimetype": "text/x-python",
   "name": "python",
   "nbconvert_exporter": "python",
   "pygments_lexer": "ipython3",
   "version": "3.8.3"
  }
 },
 "nbformat": 4,
 "nbformat_minor": 4
}
